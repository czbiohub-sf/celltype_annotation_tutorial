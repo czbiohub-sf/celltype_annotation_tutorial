{
 "cells": [
  {
   "cell_type": "code",
   "execution_count": null,
   "metadata": {},
   "outputs": [],
   "source": []
  },
  {
   "cell_type": "code",
   "execution_count": 2,
   "metadata": {},
   "outputs": [
    {
     "name": "stdout",
     "output_type": "stream",
     "text": [
      "\u001b[31mERROR: Could not find a version that satisfies the requirement networkd3 (from versions: none)\u001b[0m\u001b[31m\n",
      "\u001b[0m\u001b[31mERROR: No matching distribution found for networkd3\u001b[0m\u001b[31m\n",
      "\u001b[0mNote: you may need to restart the kernel to use updated packages.\n"
     ]
    }
   ],
   "source": []
  },
  {
   "cell_type": "code",
   "execution_count": 1,
   "metadata": {},
   "outputs": [
    {
     "ename": "ModuleNotFoundError",
     "evalue": "No module named 'networkd3'",
     "output_type": "error",
     "traceback": [
      "\u001b[0;31m---------------------------------------------------------------------------\u001b[0m",
      "\u001b[0;31mModuleNotFoundError\u001b[0m                       Traceback (most recent call last)",
      "Cell \u001b[0;32mIn [1], line 3\u001b[0m\n\u001b[1;32m      1\u001b[0m \u001b[38;5;28;01mimport\u001b[39;00m \u001b[38;5;21;01mpandas\u001b[39;00m \u001b[38;5;28;01mas\u001b[39;00m \u001b[38;5;21;01mpd\u001b[39;00m\n\u001b[1;32m      2\u001b[0m \u001b[38;5;28;01mimport\u001b[39;00m \u001b[38;5;21;01mnumpy\u001b[39;00m \u001b[38;5;28;01mas\u001b[39;00m \u001b[38;5;21;01mnp\u001b[39;00m\n\u001b[0;32m----> 3\u001b[0m \u001b[38;5;28;01mimport\u001b[39;00m \u001b[38;5;21;01mnetworkd3\u001b[39;00m \u001b[38;5;28;01mas\u001b[39;00m \u001b[38;5;21;01mnd3\u001b[39;00m\n\u001b[1;32m      4\u001b[0m \u001b[38;5;28;01mimport\u001b[39;00m \u001b[38;5;21;01mrpy2\u001b[39;00m\u001b[38;5;21;01m.\u001b[39;00m\u001b[38;5;21;01mrobjects\u001b[39;00m \u001b[38;5;28;01mas\u001b[39;00m \u001b[38;5;21;01mrobjects\u001b[39;00m\n",
      "\u001b[0;31mModuleNotFoundError\u001b[0m: No module named 'networkd3'"
     ]
    }
   ],
   "source": [
    "import pandas as pd\n",
    "import numpy as np\n",
    "import networkd3 as nd3\n",
    "import rpy2.robjects as robjects\n"
   ]
  },
  {
   "cell_type": "code",
   "execution_count": null,
   "metadata": {},
   "outputs": [],
   "source": [
    "library(rmarkdown)\n",
    "# Libraries\n",
    "library(tidyverse)\n",
    "library(viridis)\n",
    "library(patchwork)\n",
    "library(hrbrthemes)\n",
    "library(circlize)\n",
    "\n",
    "# Load dataset from github\n",
    "# data_cite <- read.table(\"/mnt/ibm_lg/yangjoon.kim/excellxgene_tutorial_manuscript/data/neurips2021_cite/s1d1_gex_cite_leiden001.csv\", header=TRUE)\n",
    "data_cite <- read_csv(\"/mnt/ibm_lg/yangjoon.kim/excellxgene_tutorial_manuscript/data/neurips2021_cite/s1d1_gex_cite_leiden001.csv\")\n",
    "# Package\n",
    "library(networkD3)\n",
    "\n",
    "data_cite_long <- data_cite %>%\n",
    "  rownames_to_column %>%\n",
    "  gather(key = 'leiden_GEX_001', value = 'value', -rowname) # %>%\n",
    "  #filter(value > 0)\n",
    "colnames(data_cite_long) <- c(\"source\", \"target\", \"value\")\n",
    "data_cite_long$target <- paste(data_cite_long$target, \" \", sep=\"\")\n",
    "\n",
    "# From these flows we need to create a node data frame: it lists every entities involved in the flow\n",
    "nodes <- data.frame(name=c(as.character(data_cite_long$source), as.character(data_cite_long$target)) %>% unique())\n",
    " \n",
    "# With networkD3, connection must be provided using id, not using real name like in the links dataframe.. So we need to reformat it.\n",
    "data_cite_long$IDsource=match(data_cite_long$source, nodes$name)-1\n",
    "data_cite_long$IDtarget=match(data_cite_long$target, nodes$name)-1\n",
    "\n",
    "# prepare colour scale\n",
    "# ColourScal ='d3.scaleOrdinal() .range([\"#FDE725FF\",\"#B4DE2CFF\",\"#6DCD59FF\",\"#35B779FF\",\"#1F9E89FF\",\"#26828EFF\",\"#31688EFF\",\"#3E4A89FF\",\"#482878FF\",\"#440154FF\"])'\n",
    "# Define the color palettes for the source and target nodes\n",
    "library(RColorBrewer)\n",
    "sourceColors <- brewer.pal(9, \"Set2\")\n",
    "targetColors <- brewer.pal(9, \"Set1\")\n",
    "\n",
    "# generate a histogram to see the distribution of \"values\", which represents the thickness of the links between the source and the target\n",
    "hist(data_cite_long$value, main = \"Histogram of Value\", xlab = \"Value\")\n",
    "\n",
    "# Filter the Links data frame to only include links with a value >= threshold\n",
    "threshold = 30\n",
    "links_filtered <- data_cite_long[data_cite_long$value >= threshold,]\n",
    "\n",
    "\n",
    "# saveNetwork(sn, \"/mnt/ibm_lg/yangjoon.kim/excellxgene_tutorial_manuscript/celltype_annotation_tutorial/figures/Figure_RNA_CITE_multiome/leiden_GEX_ADT_sankey_R.png\")\n",
    "# pdf(file=\"/mnt/ibm_lg/yangjoon.kim/excellxgene_tutorial_manuscript/celltype_annotation_tutorial/figures/Figure_RNA_CITE_multiome/leiden_GEX_ADT_sankey_R.pdf\",\n",
    "#     width=6, height=10)\n",
    "# # Make the Network\n",
    "sn <- sankeyNetwork(Links = links_filtered, Nodes = nodes,\n",
    "                     Source = \"IDsource\", Target = \"IDtarget\",\n",
    "                     Value = \"value\", NodeID = \"name\",\n",
    "                     sinksRight=TRUE, colourScale=ColourScal, nodeWidth=40, fontSize=13,\n",
    "                     #nodeColour = list(sourceColors = sourceColors, targetColors = targetColors),\n",
    "                     nodePadding=20)\n",
    "# dev.off"
   ]
  }
 ],
 "metadata": {
  "kernelspec": {
   "display_name": "rpy2",
   "language": "python",
   "name": "rpy2"
  },
  "language_info": {
   "codemirror_mode": {
    "name": "ipython",
    "version": 3
   },
   "file_extension": ".py",
   "mimetype": "text/x-python",
   "name": "python",
   "nbconvert_exporter": "python",
   "pygments_lexer": "ipython3",
   "version": "3.8.13"
  }
 },
 "nbformat": 4,
 "nbformat_minor": 2
}
